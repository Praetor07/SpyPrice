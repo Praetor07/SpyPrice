{
 "cells": [
  {
   "cell_type": "code",
   "execution_count": 27,
   "metadata": {
    "collapsed": true,
    "pycharm": {
     "name": "#%%\n"
    }
   },
   "outputs": [],
   "source": [
    "import pandas as pd\n",
    "import seaborn as sns\n",
    "import time\n",
    "import matplotlib.pyplot as plt\n",
    "working_df = pd. read_csv('modules/maintenance.csv')"
   ]
  },
  {
   "cell_type": "code",
   "execution_count": 28,
   "outputs": [],
   "source": [
    "grouped_multiple = working_df.groupby(['Company Name','Meta data', 'Processor', 'RAM', 'Graphic card', 'Hard disk']).agg({'Price': ['max', 'mean', 'min']})\n",
    "grouped_multiple.columns  = ['Price_max', 'Price_mean', 'Price_min']\n",
    "grouped_multiple.reset_index(inplace = True)\n",
    "grouped_multiple = grouped_multiple[['Company Name','Meta data','Price_max','Price_mean', 'Price_min']]\n",
    "grouping_t = working_df.groupby(['Company Name','Meta data', 'Processor', 'RAM', 'Graphic card', 'Hard disk']).groups"
   ],
   "metadata": {
    "collapsed": false,
    "pycharm": {
     "name": "#%%\n"
    }
   }
  },
  {
   "cell_type": "code",
   "execution_count": 29,
   "outputs": [],
   "source": [
    "def list_choices(df):\n",
    "    counter = 1\n",
    "    choice_dict = {}\n",
    "    for choice in list(df['Meta data'].unique()):\n",
    "        choice_dict[counter] = choice\n",
    "        print(f\"{counter}. {choice}\")\n",
    "        counter += 1\n",
    "    return  choice_dict"
   ],
   "metadata": {
    "collapsed": false,
    "pycharm": {
     "name": "#%%\n"
    }
   }
  },
  {
   "cell_type": "code",
   "execution_count": 31,
   "outputs": [
    {
     "name": "stdout",
     "output_type": "stream",
     "text": [
      "1. ['acer', 'nitro 5', '15.6\" fhd gaming laptop', 'black']\n",
      "2. ['acer', 'predator helios 300', '15.6\" fhd 165hz gaming laptop']\n",
      "3. ['acer', 'predator helios 300', '15.6\" qhd 240hz gaming laptop']\n",
      "4. ['acer', 'predator triton 300 se', '14” 165hz creator/gaming laptop', 'gray']\n",
      "5. ['acer', 'nitro 5 17.3\" full hd ips 144hz gaming laptop']\n",
      "6. ['acer', 'predator triton 300 se', '14” oled 90hz creator/gaming laptop']\n",
      "7. ['acer', 'predator triton 500 se 16\" 2560x1600 165hz laptop']\n",
      "8. ['acer', 'predator helios 300 gaming laptop', '15.6\" qhd 240hz ips']\n",
      "9. ['acer', 'nitro 5', 'gaming laptop', '15.6\" fhd']\n",
      "Price_distribution for ['acer', 'predator helios 300', '15.6\" fhd 165hz gaming laptop'] is ...\n"
     ]
    },
    {
     "data": {
      "text/plain": "<Figure size 500x500 with 1 Axes>",
      "image/png": "[encoded data removed]"
     },
     "metadata": {},
     "output_type": "display_data"
    }
   ],
   "source": [
    "import matplotlib.pyplot as plt\n",
    "working_df = pd. read_csv('modules/maintenance.csv')\n",
    "company_name = input(\"Please input the company name you wish to check stats for\")\n",
    "companies = list(working_df['Company Name'].unique())\n",
    "if company_name.lower() in companies:\n",
    "    company_df = working_df.loc[working_df['Company Name'] == company_name]\n",
    "    choices_dict = list_choices(company_df)\n",
    "    time.sleep(1)\n",
    "    model = input(\"Please enter the choice for the model needed\")\n",
    "    model_name = choices_dict[int(model)]\n",
    "    print(f\"Price_distribution for {model_name} is ...\")\n",
    "    company_prices = company_df.loc[company_df['Meta data'] == model_name, 'Price'].tolist()\n",
    "sns.displot(company_prices, kde = True, color= 'g')\n",
    "plt.show()"
   ],
   "metadata": {
    "collapsed": false,
    "pycharm": {
     "name": "#%%\n"
    }
   }
  },
  {
   "cell_type": "code",
   "execution_count": 1,
   "outputs": [],
   "source": [],
   "metadata": {
    "collapsed": false,
    "pycharm": {
     "name": "#%%\n"
    }
   }
  },
  {
   "cell_type": "code",
   "execution_count": 6,
   "outputs": [],
   "source": [],
   "metadata": {
    "collapsed": false,
    "pycharm": {
     "name": "#%%\n"
    }
   }
  }
 ],
 "metadata": {
  "kernelspec": {
   "display_name": "Python 3",
   "language": "python",
   "name": "python3"
  },
  "language_info": {
   "codemirror_mode": {
    "name": "ipython",
    "version": 2
   },
   "file_extension": ".py",
   "mimetype": "text/x-python",
   "name": "python",
   "nbconvert_exporter": "python",
   "pygments_lexer": "ipython2",
   "version": "2.7.6"
  }
 },
 "nbformat": 4,
 "nbformat_minor": 0
}