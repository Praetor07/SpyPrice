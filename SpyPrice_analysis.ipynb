{
 "cells": [
  {
   "cell_type": "code",
   "execution_count": 6,
   "metadata": {
    "collapsed": true,
    "pycharm": {
     "name": "#%%\n"
    }
   },
   "outputs": [],
   "source": [
    "import re\n",
    "\n",
    "import pandas as pd\n",
    "import seaborn as sns\n",
    "import time\n",
    "import matplotlib.pyplot as plt\n",
    "working_df = pd. read_csv('modules/maintenance.csv')"
   ]
  },
  {
   "cell_type": "code",
   "execution_count": 28,
   "outputs": [],
   "source": [
    "grouped_multiple = working_df.groupby(['Company Name','Meta data', 'Processor', 'RAM', 'Graphic card', 'Hard disk']).agg({'Price': ['max', 'mean', 'min']})\n",
    "grouped_multiple.columns  = ['Price_max', 'Price_mean', 'Price_min']\n",
    "grouped_multiple.reset_index(inplace = True)\n",
    "grouped_multiple = grouped_multiple[['Company Name','Meta data','Price_max','Price_mean', 'Price_min']]\n",
    "grouping_t = working_df.groupby(['Company Name','Meta data', 'Processor', 'RAM', 'Graphic card', 'Hard disk']).groups"
   ],
   "metadata": {
    "collapsed": false,
    "pycharm": {
     "name": "#%%\n"
    }
   }
  },
  {
   "cell_type": "code",
   "execution_count": 29,
   "outputs": [],
   "source": [
    "def list_choices(df):\n",
    "    counter = 1\n",
    "    choice_dict = {}\n",
    "    for choice in list(df['Meta data'].unique()):\n",
    "        choice_dict[counter] = choice\n",
    "        print(f\"{counter}. {choice}\")\n",
    "        counter += 1\n",
    "    return  choice_dict"
   ],
   "metadata": {
    "collapsed": false,
    "pycharm": {
     "name": "#%%\n"
    }
   }
  },
  {
   "cell_type": "code",
   "execution_count": 2,
   "outputs": [
    {
     "ename": "NameError",
     "evalue": "name 'pd' is not defined",
     "output_type": "error",
     "traceback": [
      "\u001B[0;31m---------------------------------------------------------------------------\u001B[0m",
      "\u001B[0;31mNameError\u001B[0m                                 Traceback (most recent call last)",
      "Cell \u001B[0;32mIn [2], line 2\u001B[0m\n\u001B[1;32m      1\u001B[0m \u001B[38;5;28;01mimport\u001B[39;00m \u001B[38;5;21;01mmatplotlib\u001B[39;00m\u001B[38;5;21;01m.\u001B[39;00m\u001B[38;5;21;01mpyplot\u001B[39;00m \u001B[38;5;28;01mas\u001B[39;00m \u001B[38;5;21;01mplt\u001B[39;00m\n\u001B[0;32m----> 2\u001B[0m working_df \u001B[38;5;241m=\u001B[39m \u001B[43mpd\u001B[49m\u001B[38;5;241m.\u001B[39m read_csv(\u001B[38;5;124m'\u001B[39m\u001B[38;5;124mmodules/maintenance.csv\u001B[39m\u001B[38;5;124m'\u001B[39m)\n\u001B[1;32m      3\u001B[0m company_name \u001B[38;5;241m=\u001B[39m \u001B[38;5;28minput\u001B[39m(\u001B[38;5;124m\"\u001B[39m\u001B[38;5;124mPlease input the company name you wish to check stats for\u001B[39m\u001B[38;5;124m\"\u001B[39m)\n\u001B[1;32m      4\u001B[0m companies \u001B[38;5;241m=\u001B[39m \u001B[38;5;28mlist\u001B[39m(working_df[\u001B[38;5;124m'\u001B[39m\u001B[38;5;124mCompany Name\u001B[39m\u001B[38;5;124m'\u001B[39m]\u001B[38;5;241m.\u001B[39munique())\n",
      "\u001B[0;31mNameError\u001B[0m: name 'pd' is not defined"
     ]
    }
   ],
   "source": [
    "import matplotlib.pyplot as plt\n",
    "working_df = pd. read_csv('modules/maintenance.csv')\n",
    "company_name = input(\"Please input the company name you wish to check stats for\")\n",
    "companies = list(working_df['Company Name'].unique())\n",
    "if company_name.lower() in companies:\n",
    "    company_df = working_df.loc[working_df['Company Name'] == company_name]\n",
    "    choices_dict = list_choices(company_df)\n",
    "    time.sleep(1)\n",
    "    model = input(\"Please enter the choice for the model needed\")\n",
    "    model_name = choices_dict[int(model)]\n",
    "    print(f\"Price_distribution for {model_name} is ...\")\n",
    "    company_prices = company_df.loc[company_df['Meta data'] == model_name, 'Price'].tolist()\n",
    "sns.displot(company_prices, kde = True, color= 'g')\n",
    "plt.show()"
   ],
   "metadata": {
    "collapsed": false,
    "pycharm": {
     "name": "#%%\n"
    }
   }
  },
  {
   "cell_type": "code",
   "execution_count": 9,
   "outputs": [
    {
     "name": "stdout",
     "output_type": "stream",
     "text": [
      "OKay 16.1\" qhd laptop shadow black\n",
      "OKay victus 15.6\" gaming laptop mica silver\n",
      "OKay tuf dash 15.6\" gaming laptop eclipse grey\n",
      "OKay rog zephyrus 16\" wqxga 165hz gaming laptop off black\n",
      "OKay nitro 5 15.6\" fhd gaming laptop black\n",
      "OKay g15re 5000 15.6\" gaming laptop 1tb solid state drive grey\n",
      "OKay sword 15.6\" 144hz gaming laptop black\n",
      "OKay 16.1\" laptop shadow black\n",
      "OKay rog zephyrus g14 14\" laptop\n",
      "OKay ideapad gaming 3 15ihu6 15.6\" gaming laptop shadow black\n",
      "OKay legion 5 15\" gaming laptop phantom blue\n",
      "OKay aorus 15.6 ips 240hz gaming laptop\n",
      "OKay legion slim 7i 16\" wuxga gaming laptop onyx grey\n",
      "OKay ideapad gaming 3i 15.6\" fhd laptop shadow black\n",
      "OKay predator helios 300 15.6\" fhd 165hz gaming laptop\n",
      "OKay x14 r1 14.0\" 144hz fhd gaming laptop lunar light\n",
      "OKay predator helios 300 15.6\" qhd 240hz gaming laptop\n",
      "OKay vector gp66 15.6\" 360hz gaming laptop black\n",
      "OKay aero 16\" 4k amoled gaming laptop\n",
      "OKay rog 13.4\" touchscreen gaming laptop off black\n",
      "OKay lunar light\n",
      "OKay rog zephyrus 15.6\" wqhd 165hz gaming laptop eclipse gray\n",
      "OKay m17 r5 17.3\" fhd gaming laptop dark side of the moon\n",
      "OKay rog zephyrus 14” wqxga 120hz gaming laptop amd radeon rx 6700s\n",
      "OKay aorus 15.6\" ips gaming laptop\n",
      "OKay 15.6\" fhd ips gaming laptop 16gb\n",
      "OKay tuf gaming a15 15.6\" fhd 144hz gaming laptop\n",
      "OKay 15.6\" fhd ips 144hz gaming laptop 16gb\n",
      "OKay legion 5 pro 16\" wqxga gaming laptop storm grey\n",
      "OKay stealth 17.3\" 144hz gaming laptop black\n",
      "OKay phantom grey with speckles\n",
      "OKay pavilion 15.6\" touch screen laptop ceramic white\n",
      "OKay rog zephyrus 16\" fhd 165hz gaming laptop off black\n",
      "OKay legion slim 7 amd advantage edition 16\" wqxga gaming laptop amd radeon rx 6800s onyx grey\n",
      "OKay predator triton 300 se 14” 165hz creator/gaming laptop gray\n",
      "OKay rog strix g15 advantage edition 15.6\" qhd gaming laptop radeon rx 6800m\n",
      "OKay rog zephyrus 14\" gaming laptop\n",
      "OKay nitro 5 17.3\" full hd ips 144hz gaming laptop\n",
      "OKay delta 15.6\" fhd 240hz gaming laptop radeon rx6700m black\n",
      "OKay rog zephyrus 15.6\" qhd gaming laptop eclipse grey eclipse grey\n",
      "OKay rog 13.4\" touchscreen gaming tablet black\n",
      "OKay rog 16\" touchscreen gaming laptop off black\n",
      "OKay rog strix g15 advantage edition 15.6\" fhd gaming laptop radeon rx 6800m\n",
      "OKay tuf dash 15.6\" fhd 144hz gaming laptop off black\n",
      "OKay 16.1\" gaming laptop amd radeon rx 6650m mica silver\n",
      "OKay gp66 15.6\" 240hz gaming laptop black\n",
      "OKay gaming f17 fx706 17.3\" gaming laptop 512 gb\n",
      "OKay gs66 15.6\" gaming laptop black\n",
      "OKay x15 r1 15.6\" fhd gaming laptop 512gb solid state drive white, lunar light\n",
      "OKay rog zephyrus 14\" fhd 144hz gaming laptop moonlight white\n",
      "OKay blade 15 advanced 15.6\" gaming laptop uhd 144hz 32gb ram black\n",
      "OKay 16.1\" gaming laptop\n",
      "OKay rog zephyrus 14\" wqxga 120hz gaming laptop amd radeon rx 6800s moonlight white\n",
      "OKay strix scar 15 g533 15.6\" gaming laptop off black\n",
      "OKay g15 15.6\" fhd gaming laptop 512gb solid state drive black\n",
      "OKay ge66 raider 15.6\" gaming laptop titanium blue\n",
      "OKay black\n",
      "OKay legion slim 7 15\" gaming laptop shadow black\n",
      "OKay rog zephyrus 15.6\" wqhd 165hz gaming laptop eclipse grey\n",
      "OKay rog 16\" wqxga 165hz gaming laptop off black\n",
      "OKay g15 15.6\" fhd gaming laptop 512gb solid state drive phantom grey, with speckles\n",
      "OKay tuf gaming f15 15.6\" laptop eclipse gray\n",
      "OKay zenbook pro 15.6\" touch screen laptop pine gray\n",
      "OKay blade 14 14\" gaming laptop qhd 165hz 16gb ram black\n",
      "OKay g15 15.6\" fhd gaming laptop 512gb solid state drive black, dark shadow grey\n",
      "OKay vivobook pro 16x n7600 16\" laptop 1 tb\n",
      "OKay legion slim 7 15\" 4k ultra hd gaming laptop shadow black\n",
      "OKay blade 17 17.3\" gaming laptop uhd 144hz 32gb ram black\n",
      "OKay ['gigabyte aorus 17.3\" fhd laptop']\n",
      "OKay ['gigabyte aero 17.3\" 4k ultra hd laptop']\n",
      "OKay katana gf76 17.3\" gaming laptop black\n",
      "OKay tuf gaming 17.3\" laptop eclipse grey\n",
      "OKay gf65 15.6\" 144hz gaming laptop black\n",
      "OKay m15 r5 15.6\" fhd gaming laptop 1tb solid state drive dark side of the moon\n",
      "OKay voyager a1600 16” qhd 240hz gaming laptop amd radeon rx 6800m black\n",
      "OKay 17.3\" gaming laptop shadow black\n",
      "OKay vector gp76 17.3\" gaming laptop core black\n",
      "OKay gs76 17.3\" fhd 360hz gaming laptop\n",
      "OKay stealth gs77 17.3\" gaming laptop core black\n",
      "OKay blade 15 advanced 15.6\" gaming laptop fhd 360hz 32gb ram black\n",
      "OKay zenbook 14 um425 14\" laptop pine gray\n",
      "OKay xpg xenia 15\" gaming laptop black\n",
      "OKay flow x16 gv601 16\" touch screen multifunctional laptop eclipse gray\n",
      "OKay blade 15 advanced 15.6\" gaming laptop qhd 240hz 32gb ram black\n",
      "OKay pavilion 16.1\" gaming laptop shadow black\n",
      "OKay rog zephyrus 14\" gaming laptop amd rx 6800s moonlight white\n",
      "OKay ideapad gaming 3 15.6\" fhd laptop shadow black\n",
      "OKay 15.6 ips level 240hz gaming laptop\n",
      "OKay blade 15 advanced 15.6\" gaming laptop qhd 240hz 16gb ram black\n",
      "OKay ideapad gaming 3 15.6\" fhd 120hz laptop shadow black\n",
      "OKay g5 md 15.6\" fhd ips gaming laptop\n",
      "OKay m15 r7 15.6\" qhd 240hz gaming laptop dark side of the moon\n",
      "OKay 17.3\" gaming laptop titanium blue\n",
      "OKay rog zephyrus g15 15.6\" qhd laptop 1tb solid state drive eclipse gray\n",
      "OKay rog zephyrus g15 15.6\" qhd laptop 512gb solid state drive eclipse gray\n",
      "OKay ws76 17.3\" laptop black\n",
      "OKay aorus 17.3\" ips 360hz gaming laptop\n",
      "OKay blade 17 17.3\" gaming laptop qhd 165hz 16gb ram black\n",
      "OKay predator triton 300 se 14” oled 90hz creator/gaming laptop\n",
      "OKay predator triton 500 se 16\" 2560x1600 165hz laptop\n",
      "OKay zenbook pro 14 duo oled ux8402 14.5\" laptop tech black\n",
      "OKay rog zephyrus 14\" gaming laptop moonlight white\n",
      "OKay x17 r1 17.3\" fhd gaming laptop 1tb solid state drive white, lunar light\n",
      "OKay aorus 15.6\" 2k ips gaming laptop\n",
      "OKay blade 17 17.3\" gaming laptop fhd 360hz 32gb ram black\n",
      "OKay pavilion x360  2 in 1 14\" touch screen laptop natural silver\n",
      "OKay expertbook b1 b1500 15.6\" laptop star black\n",
      "OKay gf63 15.6\" gaming laptop black\n",
      "OKay ge66 15.6\" 240hz gaming laptop black\n",
      "OKay blade 17 17.3\" gaming laptop qhd 240hz 16gb ram black\n",
      "OKay 16.1\" gaming laptop shadow black\n",
      "OKay vivobook pro 16x n7600 16\" laptop\n",
      "OKay raider ge67 hx 15.6\" gaming laptop titanium blue\n",
      "OKay vivobook 17x k1703 17.3\" laptop quiet blue\n",
      "OKay zenbook pro 14 duo oled ux8402 14.5\" touch screen laptop 1 tech black\n",
      "OKay predator helios 300 gaming laptop 15.6\" qhd 240hz ips\n",
      "OKay m15 r4 15.6\" fhd gaming laptop 512gb solid state drive dark side of the moon\n",
      "OKay m17 r5 17.3\" 360hz fhd gaming laptop dark side of the moon\n",
      "OKay x15 r2  15.6\" fhd gaming laptop lunar light\n",
      "OKay tuf gaming 15.6\" laptop eclipse grey\n",
      "OKay titan gt77 17.3\" gaming laptop titanium blue\n",
      "OKay g5 15.6\" fhd gaming laptop amd radeon rx 5600m 256gb solid state drive grey\n",
      "OKay raider 17.3\" gaming laptop dark grey\n",
      "OKay vivobook pro 16x m7600 16\" laptop black\n",
      "OKay nitro 5 gaming laptop 15.6\" fhd\n",
      "OKay 14\" laptop ink black\n",
      "OKay rog 16\" wuxga 144hz gaming laptop\n",
      "OKay 15.6'' fhd laptop 32gb black black\n",
      "OKay creatorpro z16p 16\" touch screen laptop\n",
      "OKay bespoke black\n",
      "OKay 15.6'' fhd laptop 32gb black\n",
      "OKay gf65 15.6\" gaming laptop 512gbsolid state drive black\n",
      "OKay vivobook s 15.6\" notebook indie black\n",
      "OKay gs76 stealth 17.3\" gaming laptop core black\n",
      "OKay dash f15 fx517 15.6\" gaming laptop \n",
      "OKay legion 5 pro 16iah7h 16\" gaming laptop storm gray\n",
      "OKay vivobook pro 16\" notebook earl grey\n",
      "OKay vivobook s 14 flip tn3402 14\" laptop quiet blue\n",
      "OKay gs76 stealth 17.3\" qhd gaming laptop core black\n",
      "OKay pulse gl66 15.6\" qhd gaming laptop black\n",
      "OKay vivobook pro n7601zmdb77 16\" oled laptop black\n",
      "OKay vivobook pro 14 oled k3402 14\" laptop indie black\n",
      "OKay gs66 stealth 15.6\" gaming laptop core black\n",
      "OKay zenbook pro duo 15 oled ux582 15.6\" laptop celestial blue\n",
      "OKay swift 3 14” 2560x1400 100% srgb  lntel evo laptop silver\n",
      "OKay predator helios 300 15.6\" gaming laptop 1tb hard drive obsidian black\n",
      "OKay flow z13 gz301 13.4\" touch screen multifunctional laptop\n",
      "OKay raider 15.6\" oled qhd gaming laptop dark grey\n",
      "OKay vivobook 16x m1603 16\" laptop quiet blue\n",
      "OKay blade 17 17.3\" gaming laptop fhd 360hz 16gb ram black\n",
      "OKay raider ge77 hx 17.3\" gaming laptop titanium blue\n",
      "OKay 17.3\" gaming  laptop\n",
      "OKay strix scar 15 g533 15.6\" gaming laptop\n",
      "OKay 16.1\" qhd gaming laptop shadow black\n",
      "OKay 16.1\" laptop mica silver\n",
      "OKay geo geek squad certified refurbished geobook 120 minecraft edition 12.5 inch laptop 64gb emmc minecraft green\n"
     ]
    }
   ],
   "source": [
    "#working_df.columns\n",
    "working_df.fillna(\"None\", inplace= True)\n",
    "working_df['Meta data'].value_counts()\n",
    "for x in list(working_df['Meta data'].unique()):\n",
    "    print(\"OKay\", x)"
   ],
   "metadata": {
    "collapsed": false,
    "pycharm": {
     "name": "#%%\n"
    }
   }
  },
  {
   "cell_type": "code",
   "execution_count": 37,
   "outputs": [
    {
     "data": {
      "text/plain": "       Unnamed: 0 Company Name  \\\n49             50         asus   \n164           165         asus   \n349           350         asus   \n439           440         asus   \n529           530         asus   \n...           ...          ...   \n16431       17068         asus   \n16520       17158         asus   \n16609       17248         asus   \n16698       17338         asus   \n16787       17428         asus   \n\n                                               Meta data  \\\n49     ['asus', 'gaming f17 fx706 17.3\" gaming laptop...   \n164    ['asus', 'gaming f17 fx706 17.3\" gaming laptop...   \n349    ['asus', 'gaming f17 fx706 17.3\" gaming laptop...   \n439    ['asus', 'gaming f17 fx706 17.3\" gaming laptop...   \n529    ['asus', 'gaming f17 fx706 17.3\" gaming laptop...   \n...                                                  ...   \n16431  ['asus', 'gaming f17 fx706 17.3\" gaming laptop...   \n16520  ['asus', 'gaming f17 fx706 17.3\" gaming laptop...   \n16609  ['asus', 'gaming f17 fx706 17.3\" gaming laptop...   \n16698  ['asus', 'gaming f17 fx706 17.3\" gaming laptop...   \n16787  ['asus', 'gaming f17 fx706 17.3\" gaming laptop...   \n\n                                        Processor          RAM Graphic card  \\\n49     nvidia intel geforce rtx 3050 uhd graphics  8 gb memory          NaN   \n164    nvidia intel geforce rtx 3050 uhd graphics  8 gb memory          NaN   \n349    nvidia intel geforce rtx 3050 uhd graphics  8 gb memory          NaN   \n439    nvidia intel geforce rtx 3050 uhd graphics  8 gb memory          NaN   \n529    nvidia intel geforce rtx 3050 uhd graphics  8 gb memory          NaN   \n...                                           ...          ...          ...   \n16431  nvidia intel geforce rtx 3050 uhd graphics  8 gb memory          NaN   \n16520  nvidia intel geforce rtx 3050 uhd graphics  8 gb memory          NaN   \n16609  nvidia intel geforce rtx 3050 uhd graphics  8 gb memory          NaN   \n16698  nvidia intel geforce rtx 3050 uhd graphics  8 gb memory          NaN   \n16787  nvidia intel geforce rtx 3050 uhd graphics  8 gb memory          NaN   \n\n      Hard disk   Price        Date      Time  \n49          NaN  842.99  09/03/2022  15:30:00  \n164         NaN  842.99  09/04/2022  18:30:00  \n349         NaN  842.99  09/07/2022  17:30:00  \n439         NaN  842.99  09/07/2022  18:30:00  \n529         NaN  842.99  09/07/2022  21:30:00  \n...         ...     ...         ...       ...  \n16431       NaN  842.99  10/02/2022  11:30:00  \n16520       NaN  842.99  10/02/2022  12:30:00  \n16609       NaN  842.99  10/02/2022  13:30:00  \n16698       NaN  842.99  10/02/2022  14:30:00  \n16787       NaN  842.99  10/02/2022  22:30:00  \n\n[182 rows x 10 columns]",
      "text/html": "<div>\n<style scoped>\n    .dataframe tbody tr th:only-of-type {\n        vertical-align: middle;\n    }\n\n    .dataframe tbody tr th {\n        vertical-align: top;\n    }\n\n    .dataframe thead th {\n        text-align: right;\n    }\n</style>\n<table border=\"1\" class=\"dataframe\">\n  <thead>\n    <tr style=\"text-align: right;\">\n      <th></th>\n      <th>Unnamed: 0</th>\n      <th>Company Name</th>\n      <th>Meta data</th>\n      <th>Processor</th>\n      <th>RAM</th>\n      <th>Graphic card</th>\n      <th>Hard disk</th>\n      <th>Price</th>\n      <th>Date</th>\n      <th>Time</th>\n    </tr>\n  </thead>\n  <tbody>\n    <tr>\n      <th>49</th>\n      <td>50</td>\n      <td>asus</td>\n      <td>['asus', 'gaming f17 fx706 17.3\" gaming laptop...</td>\n      <td>nvidia intel geforce rtx 3050 uhd graphics</td>\n      <td>8 gb memory</td>\n      <td>NaN</td>\n      <td>NaN</td>\n      <td>842.99</td>\n      <td>09/03/2022</td>\n      <td>15:30:00</td>\n    </tr>\n    <tr>\n      <th>164</th>\n      <td>165</td>\n      <td>asus</td>\n      <td>['asus', 'gaming f17 fx706 17.3\" gaming laptop...</td>\n      <td>nvidia intel geforce rtx 3050 uhd graphics</td>\n      <td>8 gb memory</td>\n      <td>NaN</td>\n      <td>NaN</td>\n      <td>842.99</td>\n      <td>09/04/2022</td>\n      <td>18:30:00</td>\n    </tr>\n    <tr>\n      <th>349</th>\n      <td>350</td>\n      <td>asus</td>\n      <td>['asus', 'gaming f17 fx706 17.3\" gaming laptop...</td>\n      <td>nvidia intel geforce rtx 3050 uhd graphics</td>\n      <td>8 gb memory</td>\n      <td>NaN</td>\n      <td>NaN</td>\n      <td>842.99</td>\n      <td>09/07/2022</td>\n      <td>17:30:00</td>\n    </tr>\n    <tr>\n      <th>439</th>\n      <td>440</td>\n      <td>asus</td>\n      <td>['asus', 'gaming f17 fx706 17.3\" gaming laptop...</td>\n      <td>nvidia intel geforce rtx 3050 uhd graphics</td>\n      <td>8 gb memory</td>\n      <td>NaN</td>\n      <td>NaN</td>\n      <td>842.99</td>\n      <td>09/07/2022</td>\n      <td>18:30:00</td>\n    </tr>\n    <tr>\n      <th>529</th>\n      <td>530</td>\n      <td>asus</td>\n      <td>['asus', 'gaming f17 fx706 17.3\" gaming laptop...</td>\n      <td>nvidia intel geforce rtx 3050 uhd graphics</td>\n      <td>8 gb memory</td>\n      <td>NaN</td>\n      <td>NaN</td>\n      <td>842.99</td>\n      <td>09/07/2022</td>\n      <td>21:30:00</td>\n    </tr>\n    <tr>\n      <th>...</th>\n      <td>...</td>\n      <td>...</td>\n      <td>...</td>\n      <td>...</td>\n      <td>...</td>\n      <td>...</td>\n      <td>...</td>\n      <td>...</td>\n      <td>...</td>\n      <td>...</td>\n    </tr>\n    <tr>\n      <th>16431</th>\n      <td>17068</td>\n      <td>asus</td>\n      <td>['asus', 'gaming f17 fx706 17.3\" gaming laptop...</td>\n      <td>nvidia intel geforce rtx 3050 uhd graphics</td>\n      <td>8 gb memory</td>\n      <td>NaN</td>\n      <td>NaN</td>\n      <td>842.99</td>\n      <td>10/02/2022</td>\n      <td>11:30:00</td>\n    </tr>\n    <tr>\n      <th>16520</th>\n      <td>17158</td>\n      <td>asus</td>\n      <td>['asus', 'gaming f17 fx706 17.3\" gaming laptop...</td>\n      <td>nvidia intel geforce rtx 3050 uhd graphics</td>\n      <td>8 gb memory</td>\n      <td>NaN</td>\n      <td>NaN</td>\n      <td>842.99</td>\n      <td>10/02/2022</td>\n      <td>12:30:00</td>\n    </tr>\n    <tr>\n      <th>16609</th>\n      <td>17248</td>\n      <td>asus</td>\n      <td>['asus', 'gaming f17 fx706 17.3\" gaming laptop...</td>\n      <td>nvidia intel geforce rtx 3050 uhd graphics</td>\n      <td>8 gb memory</td>\n      <td>NaN</td>\n      <td>NaN</td>\n      <td>842.99</td>\n      <td>10/02/2022</td>\n      <td>13:30:00</td>\n    </tr>\n    <tr>\n      <th>16698</th>\n      <td>17338</td>\n      <td>asus</td>\n      <td>['asus', 'gaming f17 fx706 17.3\" gaming laptop...</td>\n      <td>nvidia intel geforce rtx 3050 uhd graphics</td>\n      <td>8 gb memory</td>\n      <td>NaN</td>\n      <td>NaN</td>\n      <td>842.99</td>\n      <td>10/02/2022</td>\n      <td>14:30:00</td>\n    </tr>\n    <tr>\n      <th>16787</th>\n      <td>17428</td>\n      <td>asus</td>\n      <td>['asus', 'gaming f17 fx706 17.3\" gaming laptop...</td>\n      <td>nvidia intel geforce rtx 3050 uhd graphics</td>\n      <td>8 gb memory</td>\n      <td>NaN</td>\n      <td>NaN</td>\n      <td>842.99</td>\n      <td>10/02/2022</td>\n      <td>22:30:00</td>\n    </tr>\n  </tbody>\n</table>\n<p>182 rows × 10 columns</p>\n</div>"
     },
     "execution_count": 37,
     "metadata": {},
     "output_type": "execute_result"
    }
   ],
   "source": [
    "working_df.loc[working_df['Processor'] == 'nvidia intel geforce rtx 3050 uhd graphics']"
   ],
   "metadata": {
    "collapsed": false,
    "pycharm": {
     "name": "#%%\n"
    }
   }
  },
  {
   "cell_type": "code",
   "execution_count": 52,
   "outputs": [
    {
     "data": {
      "text/plain": "True"
     },
     "execution_count": 52,
     "metadata": {},
     "output_type": "execute_result"
    }
   ],
   "source": [
    "from matplotlib.colors import is_color_like\n",
    "is_color_like('blue')"
   ],
   "metadata": {
    "collapsed": false,
    "pycharm": {
     "name": "#%%\n"
    }
   }
  },
  {
   "cell_type": "code",
   "execution_count": 16,
   "outputs": [
    {
     "name": "stdout",
     "output_type": "stream",
     "text": [
      "abc\"\n",
      "Present\n"
     ]
    }
   ],
   "source": [
    "import re\n",
    "x = 'abc\"'\n",
    "print(x)\n",
    "if re.search('\"', x):\n",
    "    print(\"Present\")"
   ],
   "metadata": {
    "collapsed": false,
    "pycharm": {
     "name": "#%%\n"
    }
   }
  },
  {
   "cell_type": "code",
   "execution_count": null,
   "outputs": [],
   "source": [],
   "metadata": {
    "collapsed": false,
    "pycharm": {
     "name": "#%%\n"
    }
   }
  }
 ],
 "metadata": {
  "kernelspec": {
   "display_name": "Python 3",
   "language": "python",
   "name": "python3"
  },
  "language_info": {
   "codemirror_mode": {
    "name": "ipython",
    "version": 2
   },
   "file_extension": ".py",
   "mimetype": "text/x-python",
   "name": "python",
   "nbconvert_exporter": "python",
   "pygments_lexer": "ipython2",
   "version": "2.7.6"
  }
 },
 "nbformat": 4,
 "nbformat_minor": 0
}