{
 "cells": [
  {
   "cell_type": "code",
   "execution_count": 3,
   "metadata": {
    "collapsed": true,
    "pycharm": {
     "name": "#%%\n"
    }
   },
   "outputs": [],
   "source": [
    "import re\n",
    "import pandas as pd\n",
    "import seaborn as sns\n",
    "import time\n",
    "import matplotlib.pyplot as plt\n",
    "working_df = pd. read_csv('modules/maintenance.csv')"
   ]
  },
  {
   "cell_type": "code",
   "execution_count": 31,
   "outputs": [],
   "source": [
    "def list_choices(df):\n",
    "    counter = 1\n",
    "    choice_dict = {}\n",
    "    for choice in list(df['Model name'].unique()):\n",
    "        choice_dict[counter] = choice\n",
    "        print(f\"{counter}. {choice}\")\n",
    "        counter += 1\n",
    "    return  choice_dict"
   ],
   "metadata": {
    "collapsed": false,
    "pycharm": {
     "name": "#%%\n"
    }
   }
  },
  {
   "cell_type": "markdown",
   "source": [],
   "metadata": {
    "collapsed": false,
    "pycharm": {
     "name": "#%% md\n"
    }
   }
  },
  {
   "cell_type": "code",
   "execution_count": 2,
   "outputs": [
    {
     "ename": "NameError",
     "evalue": "name 'pd' is not defined",
     "output_type": "error",
     "traceback": [
      "\u001B[0;31m---------------------------------------------------------------------------\u001B[0m",
      "\u001B[0;31mNameError\u001B[0m                                 Traceback (most recent call last)",
      "Cell \u001B[0;32mIn [2], line 2\u001B[0m\n\u001B[1;32m      1\u001B[0m \u001B[38;5;28;01mimport\u001B[39;00m \u001B[38;5;21;01mmatplotlib\u001B[39;00m\u001B[38;5;21;01m.\u001B[39;00m\u001B[38;5;21;01mpyplot\u001B[39;00m \u001B[38;5;28;01mas\u001B[39;00m \u001B[38;5;21;01mplt\u001B[39;00m\n\u001B[0;32m----> 2\u001B[0m working_df \u001B[38;5;241m=\u001B[39m \u001B[43mpd\u001B[49m\u001B[38;5;241m.\u001B[39m read_csv(\u001B[38;5;124m'\u001B[39m\u001B[38;5;124mmodules/maintenance.csv\u001B[39m\u001B[38;5;124m'\u001B[39m)\n\u001B[1;32m      3\u001B[0m company_name \u001B[38;5;241m=\u001B[39m \u001B[38;5;28minput\u001B[39m(\u001B[38;5;124m\"\u001B[39m\u001B[38;5;124mPlease input the company name you wish to check stats for\u001B[39m\u001B[38;5;124m\"\u001B[39m)\n\u001B[1;32m      4\u001B[0m companies \u001B[38;5;241m=\u001B[39m \u001B[38;5;28mlist\u001B[39m(working_df[\u001B[38;5;124m'\u001B[39m\u001B[38;5;124mCompany Name\u001B[39m\u001B[38;5;124m'\u001B[39m]\u001B[38;5;241m.\u001B[39munique())\n",
      "\u001B[0;31mNameError\u001B[0m: name 'pd' is not defined"
     ]
    }
   ],
   "source": [
    "import matplotlib.pyplot as plt\n",
    "working_df = pd. read_csv('modules/maintenance.csv')\n",
    "company_name = input(\"Please input the company name you wish to check stats for\")\n",
    "companies = list(working_df['Company Name'].unique())\n",
    "if company_name.lower() in companies:\n",
    "    company_df = working_df.loc[working_df['Company Name'] == company_name]\n",
    "    choices_dict = list_choices(company_df)\n",
    "    time.sleep(1)\n",
    "    model = input(\"Please enter the choice for the model needed\")\n",
    "    model_name = choices_dict[int(model)]\n",
    "    print(f\"Price_distribution for {model_name} is ...\")\n",
    "    company_prices = company_df.loc[company_df['Model name'] == model_name, 'Price'].tolist()\n",
    "sns.displot(company_prices, kde = True, color= 'g')\n",
    "#plt.show()"
   ],
   "metadata": {
    "collapsed": false,
    "pycharm": {
     "name": "#%%\n"
    }
   }
  },
  {
   "cell_type": "code",
   "execution_count": 52,
   "outputs": [],
   "source": [
    "#Analysis based on companies, checking the avg/min/max price per company\n",
    "df_obj = working_df.select_dtypes(['object'])\n",
    "working_df[df_obj.columns] = df_obj.apply(lambda x : x.str.strip())\n",
    "#print(working_df['Company Name'].value_counts())\n",
    "group_df = working_df[['Company Name', 'Price']].groupby(['Company Name']).agg({'Price' : ['max', 'mean', 'min']})\n",
    "group_df.columns= ['Price_max', 'Price_avg', 'Price_min']\n",
    "group_df['Price_avg'] = group_df['Price_avg'].apply(lambda x: round(x,2))\n",
    "group_df.reset_index(inplace=True)"
   ],
   "metadata": {
    "collapsed": false,
    "pycharm": {
     "name": "#%%\n"
    }
   }
  },
  {
   "cell_type": "code",
   "execution_count": 4,
   "outputs": [],
   "source": [
    "from matplotlib import pyplot\n",
    "working_df['Date_time'] = working_df[\"Date\"] +\" \" + working_df['Time']\n",
    "working_df.drop(['Date','Time'], axis=1, inplace=True)\n",
    "working_df['Date_time'] = pd.to_datetime(working_df['Date_time'])"
   ],
   "metadata": {
    "collapsed": false,
    "pycharm": {
     "name": "#%%\n"
    }
   }
  },
  {
   "cell_type": "code",
   "execution_count": 7,
   "outputs": [
    {
     "data": {
      "text/plain": "<Figure size 640x480 with 2 Axes>",
      "image/png": "[encoded data removed]"
     },
     "metadata": {},
     "output_type": "display_data"
    }
   ],
   "source": [
    "company = \"acer\"\n",
    "company_df_l = working_df[working_df['Company Name'] == company]\n",
    "company_df_l_plot = company_df_l[['Model name','Date_time','Price']]\n",
    "model_df = company_df_l_plot.loc[company_df_l_plot['Model name'] == 'nitro 5 fhd',['Date_time', 'Price']]\n",
    "model_df.set_index('Date_time', inplace=True)\n",
    "groups = model_df.groupby(pd.Grouper(freq='M'))\n",
    "days = pd.DataFrame()\n",
    "for name,group in groups:\n",
    "    days[name.month] = round(group.values.mean(),0)\n",
    "days.plot(subplots=True, legend=True)\n",
    "pyplot.show()"
   ],
   "metadata": {
    "collapsed": false,
    "pycharm": {
     "name": "#%%\n"
    }
   }
  },
  {
   "cell_type": "code",
   "execution_count": null,
   "outputs": [],
   "source": [],
   "metadata": {
    "collapsed": false,
    "pycharm": {
     "name": "#%%\n"
    }
   }
  }
 ],
 "metadata": {
  "kernelspec": {
   "display_name": "Python 3",
   "language": "python",
   "name": "python3"
  },
  "language_info": {
   "codemirror_mode": {
    "name": "ipython",
    "version": 2
   },
   "file_extension": ".py",
   "mimetype": "text/x-python",
   "name": "python",
   "nbconvert_exporter": "python",
   "pygments_lexer": "ipython2",
   "version": "2.7.6"
  }
 },
 "nbformat": 4,
 "nbformat_minor": 0
}