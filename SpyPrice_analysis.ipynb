{
 "cells": [
  {
   "cell_type": "code",
   "execution_count": 27,
   "metadata": {
    "collapsed": true,
    "pycharm": {
     "name": "#%%\n"
    }
   },
   "outputs": [],
   "source": [
    "import pandas as pd\n",
    "import seaborn as sns\n",
    "import time\n",
    "import matplotlib.pyplot as plt\n",
    "working_df = pd. read_csv('modules/maintenance.csv')"
   ]
  },
  {
   "cell_type": "code",
   "execution_count": 28,
   "outputs": [],
   "source": [
    "grouped_multiple = working_df.groupby(['Company Name','Meta data', 'Processor', 'RAM', 'Graphic card', 'Hard disk']).agg({'Price': ['max', 'mean', 'min']})\n",
    "grouped_multiple.columns  = ['Price_max', 'Price_mean', 'Price_min']\n",
    "grouped_multiple.reset_index(inplace = True)\n",
    "grouped_multiple = grouped_multiple[['Company Name','Meta data','Price_max','Price_mean', 'Price_min']]\n",
    "grouping_t = working_df.groupby(['Company Name','Meta data', 'Processor', 'RAM', 'Graphic card', 'Hard disk']).groups"
   ],
   "metadata": {
    "collapsed": false,
    "pycharm": {
     "name": "#%%\n"
    }
   }
  },
  {
   "cell_type": "code",
   "execution_count": 29,
   "outputs": [],
   "source": [
    "def list_choices(df):\n",
    "    counter = 1\n",
    "    choice_dict = {}\n",
    "    for choice in list(df['Meta data'].unique()):\n",
    "        choice_dict[counter] = choice\n",
    "        print(f\"{counter}. {choice}\")\n",
    "        counter += 1\n",
    "    return  choice_dict"
   ],
   "metadata": {
    "collapsed": false,
    "pycharm": {
     "name": "#%%\n"
    }
   }
  },
  {
   "cell_type": "code",
   "execution_count": 40,
   "outputs": [
    {
     "name": "stdout",
     "output_type": "stream",
     "text": [
      "1. ['acer', 'nitro 5', '15.6\" fhd gaming laptop', 'black']\n",
      "2. ['acer', 'predator helios 300', '15.6\" fhd 165hz gaming laptop']\n",
      "3. ['acer', 'predator helios 300', '15.6\" qhd 240hz gaming laptop']\n",
      "4. ['acer', 'predator triton 300 se', '14” 165hz creator/gaming laptop', 'gray']\n",
      "5. ['acer', 'nitro 5 17.3\" full hd ips 144hz gaming laptop']\n",
      "6. ['acer', 'predator triton 300 se', '14” oled 90hz creator/gaming laptop']\n",
      "7. ['acer', 'predator triton 500 se 16\" 2560x1600 165hz laptop']\n",
      "8. ['acer', 'predator helios 300 gaming laptop', '15.6\" qhd 240hz ips']\n",
      "9. ['acer', 'nitro 5', 'gaming laptop', '15.6\" fhd']\n",
      "10. ['acer', 'swift 3', '14” 2560x1400 100% srgb  lntel evo laptop', 'silver']\n",
      "11. ['acer', 'predator helios 300 15.6\" gaming laptop', '1tb hard drive', 'obsidian black']\n",
      "Price_distribution for ['acer', 'predator helios 300', '15.6\" qhd 240hz gaming laptop'] is ...\n"
     ]
    },
    {
     "data": {
      "text/plain": "<Figure size 500x500 with 1 Axes>",
      "image/png": "[encoded data removed]"
     },
     "metadata": {},
     "output_type": "display_data"
    }
   ],
   "source": [
    "import matplotlib.pyplot as plt\n",
    "working_df = pd. read_csv('modules/maintenance.csv')\n",
    "company_name = input(\"Please input the company name you wish to check stats for\")\n",
    "companies = list(working_df['Company Name'].unique())\n",
    "if company_name.lower() in companies:\n",
    "    company_df = working_df.loc[working_df['Company Name'] == company_name]\n",
    "    choices_dict = list_choices(company_df)\n",
    "    time.sleep(1)\n",
    "    model = input(\"Please enter the choice for the model needed\")\n",
    "    model_name = choices_dict[int(model)]\n",
    "    print(f\"Price_distribution for {model_name} is ...\")\n",
    "    company_prices = company_df.loc[company_df['Meta data'] == model_name, 'Price'].tolist()\n",
    "sns.displot(company_prices, kde = True, color= 'g')\n",
    "plt.show()"
   ],
   "metadata": {
    "collapsed": false,
    "pycharm": {
     "name": "#%%\n"
    }
   }
  },
  {
   "cell_type": "code",
   "execution_count": 46,
   "outputs": [
    {
     "data": {
      "text/plain": "nvidia geforce rtx 3060                    4235\nnvidia geforce rtx 3050 ti                 3440\nNone                                       3203\nnvidia geforce rtx 3070 ti                 2739\nnvidia geforce rtx 3070                    1483\nnvidia geforce rtx 3050                    1368\nnvidia geforce gtx 1650                    1136\nnvidia geforce rtx 3080 ti                 1089\nnvidia geforce rtx 3080                     701\nnvidia geforce rtx 3050 ti v4g graphics     693\nnvidia geforce rtx 3050 graphics            224\nnvidia geforce rtx 3060                     208\nnvidia geforce rtx 3070ti                   152\nnvidia geforce rtx 3080                     107\nnvidia geforce rtx 3060 v6g graphics         53\nnvidia geforce rtx 3050 ti graphics          52\nnvidia geforce gtx 1660 ti                   21\nnvidia quadro rtx a5000                      14\nnvidia quadro rtx a3000                      12\nnvidia geforce gtx 1060                      10\ngeforce rtx 3070 ti                           9\nnvidia geforce rtx 2080 max q                 9\nnvidia geforce rtx 2060                       8\nName: Graphic card, dtype: int64"
     },
     "execution_count": 46,
     "metadata": {},
     "output_type": "execute_result"
    }
   ],
   "source": [
    "#working_df.columns\n",
    "working_df.fillna(\"None\", inplace= True)\n",
    "working_df['Graphic card'].value_counts()"
   ],
   "metadata": {
    "collapsed": false,
    "pycharm": {
     "name": "#%%\n"
    }
   }
  },
  {
   "cell_type": "code",
   "execution_count": 37,
   "outputs": [
    {
     "data": {
      "text/plain": "       Unnamed: 0 Company Name  \\\n49             50         asus   \n164           165         asus   \n349           350         asus   \n439           440         asus   \n529           530         asus   \n...           ...          ...   \n16431       17068         asus   \n16520       17158         asus   \n16609       17248         asus   \n16698       17338         asus   \n16787       17428         asus   \n\n                                               Meta data  \\\n49     ['asus', 'gaming f17 fx706 17.3\" gaming laptop...   \n164    ['asus', 'gaming f17 fx706 17.3\" gaming laptop...   \n349    ['asus', 'gaming f17 fx706 17.3\" gaming laptop...   \n439    ['asus', 'gaming f17 fx706 17.3\" gaming laptop...   \n529    ['asus', 'gaming f17 fx706 17.3\" gaming laptop...   \n...                                                  ...   \n16431  ['asus', 'gaming f17 fx706 17.3\" gaming laptop...   \n16520  ['asus', 'gaming f17 fx706 17.3\" gaming laptop...   \n16609  ['asus', 'gaming f17 fx706 17.3\" gaming laptop...   \n16698  ['asus', 'gaming f17 fx706 17.3\" gaming laptop...   \n16787  ['asus', 'gaming f17 fx706 17.3\" gaming laptop...   \n\n                                        Processor          RAM Graphic card  \\\n49     nvidia intel geforce rtx 3050 uhd graphics  8 gb memory          NaN   \n164    nvidia intel geforce rtx 3050 uhd graphics  8 gb memory          NaN   \n349    nvidia intel geforce rtx 3050 uhd graphics  8 gb memory          NaN   \n439    nvidia intel geforce rtx 3050 uhd graphics  8 gb memory          NaN   \n529    nvidia intel geforce rtx 3050 uhd graphics  8 gb memory          NaN   \n...                                           ...          ...          ...   \n16431  nvidia intel geforce rtx 3050 uhd graphics  8 gb memory          NaN   \n16520  nvidia intel geforce rtx 3050 uhd graphics  8 gb memory          NaN   \n16609  nvidia intel geforce rtx 3050 uhd graphics  8 gb memory          NaN   \n16698  nvidia intel geforce rtx 3050 uhd graphics  8 gb memory          NaN   \n16787  nvidia intel geforce rtx 3050 uhd graphics  8 gb memory          NaN   \n\n      Hard disk   Price        Date      Time  \n49          NaN  842.99  09/03/2022  15:30:00  \n164         NaN  842.99  09/04/2022  18:30:00  \n349         NaN  842.99  09/07/2022  17:30:00  \n439         NaN  842.99  09/07/2022  18:30:00  \n529         NaN  842.99  09/07/2022  21:30:00  \n...         ...     ...         ...       ...  \n16431       NaN  842.99  10/02/2022  11:30:00  \n16520       NaN  842.99  10/02/2022  12:30:00  \n16609       NaN  842.99  10/02/2022  13:30:00  \n16698       NaN  842.99  10/02/2022  14:30:00  \n16787       NaN  842.99  10/02/2022  22:30:00  \n\n[182 rows x 10 columns]",
      "text/html": "<div>\n<style scoped>\n    .dataframe tbody tr th:only-of-type {\n        vertical-align: middle;\n    }\n\n    .dataframe tbody tr th {\n        vertical-align: top;\n    }\n\n    .dataframe thead th {\n        text-align: right;\n    }\n</style>\n<table border=\"1\" class=\"dataframe\">\n  <thead>\n    <tr style=\"text-align: right;\">\n      <th></th>\n      <th>Unnamed: 0</th>\n      <th>Company Name</th>\n      <th>Meta data</th>\n      <th>Processor</th>\n      <th>RAM</th>\n      <th>Graphic card</th>\n      <th>Hard disk</th>\n      <th>Price</th>\n      <th>Date</th>\n      <th>Time</th>\n    </tr>\n  </thead>\n  <tbody>\n    <tr>\n      <th>49</th>\n      <td>50</td>\n      <td>asus</td>\n      <td>['asus', 'gaming f17 fx706 17.3\" gaming laptop...</td>\n      <td>nvidia intel geforce rtx 3050 uhd graphics</td>\n      <td>8 gb memory</td>\n      <td>NaN</td>\n      <td>NaN</td>\n      <td>842.99</td>\n      <td>09/03/2022</td>\n      <td>15:30:00</td>\n    </tr>\n    <tr>\n      <th>164</th>\n      <td>165</td>\n      <td>asus</td>\n      <td>['asus', 'gaming f17 fx706 17.3\" gaming laptop...</td>\n      <td>nvidia intel geforce rtx 3050 uhd graphics</td>\n      <td>8 gb memory</td>\n      <td>NaN</td>\n      <td>NaN</td>\n      <td>842.99</td>\n      <td>09/04/2022</td>\n      <td>18:30:00</td>\n    </tr>\n    <tr>\n      <th>349</th>\n      <td>350</td>\n      <td>asus</td>\n      <td>['asus', 'gaming f17 fx706 17.3\" gaming laptop...</td>\n      <td>nvidia intel geforce rtx 3050 uhd graphics</td>\n      <td>8 gb memory</td>\n      <td>NaN</td>\n      <td>NaN</td>\n      <td>842.99</td>\n      <td>09/07/2022</td>\n      <td>17:30:00</td>\n    </tr>\n    <tr>\n      <th>439</th>\n      <td>440</td>\n      <td>asus</td>\n      <td>['asus', 'gaming f17 fx706 17.3\" gaming laptop...</td>\n      <td>nvidia intel geforce rtx 3050 uhd graphics</td>\n      <td>8 gb memory</td>\n      <td>NaN</td>\n      <td>NaN</td>\n      <td>842.99</td>\n      <td>09/07/2022</td>\n      <td>18:30:00</td>\n    </tr>\n    <tr>\n      <th>529</th>\n      <td>530</td>\n      <td>asus</td>\n      <td>['asus', 'gaming f17 fx706 17.3\" gaming laptop...</td>\n      <td>nvidia intel geforce rtx 3050 uhd graphics</td>\n      <td>8 gb memory</td>\n      <td>NaN</td>\n      <td>NaN</td>\n      <td>842.99</td>\n      <td>09/07/2022</td>\n      <td>21:30:00</td>\n    </tr>\n    <tr>\n      <th>...</th>\n      <td>...</td>\n      <td>...</td>\n      <td>...</td>\n      <td>...</td>\n      <td>...</td>\n      <td>...</td>\n      <td>...</td>\n      <td>...</td>\n      <td>...</td>\n      <td>...</td>\n    </tr>\n    <tr>\n      <th>16431</th>\n      <td>17068</td>\n      <td>asus</td>\n      <td>['asus', 'gaming f17 fx706 17.3\" gaming laptop...</td>\n      <td>nvidia intel geforce rtx 3050 uhd graphics</td>\n      <td>8 gb memory</td>\n      <td>NaN</td>\n      <td>NaN</td>\n      <td>842.99</td>\n      <td>10/02/2022</td>\n      <td>11:30:00</td>\n    </tr>\n    <tr>\n      <th>16520</th>\n      <td>17158</td>\n      <td>asus</td>\n      <td>['asus', 'gaming f17 fx706 17.3\" gaming laptop...</td>\n      <td>nvidia intel geforce rtx 3050 uhd graphics</td>\n      <td>8 gb memory</td>\n      <td>NaN</td>\n      <td>NaN</td>\n      <td>842.99</td>\n      <td>10/02/2022</td>\n      <td>12:30:00</td>\n    </tr>\n    <tr>\n      <th>16609</th>\n      <td>17248</td>\n      <td>asus</td>\n      <td>['asus', 'gaming f17 fx706 17.3\" gaming laptop...</td>\n      <td>nvidia intel geforce rtx 3050 uhd graphics</td>\n      <td>8 gb memory</td>\n      <td>NaN</td>\n      <td>NaN</td>\n      <td>842.99</td>\n      <td>10/02/2022</td>\n      <td>13:30:00</td>\n    </tr>\n    <tr>\n      <th>16698</th>\n      <td>17338</td>\n      <td>asus</td>\n      <td>['asus', 'gaming f17 fx706 17.3\" gaming laptop...</td>\n      <td>nvidia intel geforce rtx 3050 uhd graphics</td>\n      <td>8 gb memory</td>\n      <td>NaN</td>\n      <td>NaN</td>\n      <td>842.99</td>\n      <td>10/02/2022</td>\n      <td>14:30:00</td>\n    </tr>\n    <tr>\n      <th>16787</th>\n      <td>17428</td>\n      <td>asus</td>\n      <td>['asus', 'gaming f17 fx706 17.3\" gaming laptop...</td>\n      <td>nvidia intel geforce rtx 3050 uhd graphics</td>\n      <td>8 gb memory</td>\n      <td>NaN</td>\n      <td>NaN</td>\n      <td>842.99</td>\n      <td>10/02/2022</td>\n      <td>22:30:00</td>\n    </tr>\n  </tbody>\n</table>\n<p>182 rows × 10 columns</p>\n</div>"
     },
     "execution_count": 37,
     "metadata": {},
     "output_type": "execute_result"
    }
   ],
   "source": [
    "working_df.loc[working_df['Processor'] == 'nvidia intel geforce rtx 3050 uhd graphics']"
   ],
   "metadata": {
    "collapsed": false,
    "pycharm": {
     "name": "#%%\n"
    }
   }
  },
  {
   "cell_type": "code",
   "execution_count": null,
   "outputs": [],
   "source": [],
   "metadata": {
    "collapsed": false,
    "pycharm": {
     "name": "#%%\n"
    }
   }
  }
 ],
 "metadata": {
  "kernelspec": {
   "display_name": "Python 3",
   "language": "python",
   "name": "python3"
  },
  "language_info": {
   "codemirror_mode": {
    "name": "ipython",
    "version": 2
   },
   "file_extension": ".py",
   "mimetype": "text/x-python",
   "name": "python",
   "nbconvert_exporter": "python",
   "pygments_lexer": "ipython2",
   "version": "2.7.6"
  }
 },
 "nbformat": 4,
 "nbformat_minor": 0
}